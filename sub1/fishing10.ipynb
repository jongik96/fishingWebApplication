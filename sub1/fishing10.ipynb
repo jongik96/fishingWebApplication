{
 "cells": [
  {
   "cell_type": "code",
   "execution_count": 6,
   "source": [
    "import pandas as pd\r\n",
    "pd.set_option('display.max_columns', None)\r\n",
    "pd.set_option('display.max_rows', None)\r\n",
    "data = pd.read_csv(\"./fishing10.csv\")\r\n",
    "\r\n",
    "data = data.drop(['OBJECTID', 'YINFO_ID', 'TARGET', 'PHOTO1_PAT', 'ID'], axis=1)\r\n",
    "data\r\n",
    "data.to_csv('fishing1.csv')\r\n",
    "\r\n",
    "# df.to_csv('sample.csv')\r\n"
   ],
   "outputs": [],
   "metadata": {}
  }
 ],
 "metadata": {
  "orig_nbformat": 4,
  "language_info": {
   "name": "python",
   "version": "3.8.7",
   "mimetype": "text/x-python",
   "codemirror_mode": {
    "name": "ipython",
    "version": 3
   },
   "pygments_lexer": "ipython3",
   "nbconvert_exporter": "python",
   "file_extension": ".py"
  },
  "kernelspec": {
   "name": "python3",
   "display_name": "Python 3.8.7 64-bit"
  },
  "interpreter": {
   "hash": "4fa188e57018c1665996e442fc1a85bea1dd059111ed87ee44d1550381197354"
  }
 },
 "nbformat": 4,
 "nbformat_minor": 2
}